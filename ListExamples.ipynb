{
 "cells": [
  {
   "cell_type": "markdown",
   "metadata": {},
   "source": [
    "Example 1.Mange A to Do List\n",
    "\n",
    ".create a to do list to keep track of Tasks"
   ]
  },
  {
   "cell_type": "code",
   "execution_count": 2,
   "metadata": {},
   "outputs": [
    {
     "name": "stdout",
     "output_type": "stream",
     "text": [
      "Don't forget to complete that ML report\n",
      "To do list remaining\n",
      "-Atc Assignment\n",
      "-ML report\n",
      "-DCN Project\n",
      "-DBMS report\n",
      "-Bio assignmenet\n"
     ]
    }
   ],
   "source": [
    "to_do_list=[\"Atc Assignment\",\"DBMS project\",\"ML report\",\"DCN Project\"]\n",
    "\n",
    "##Adding to task\n",
    "to_do_list.append(\"DBMS report\")\n",
    "to_do_list.append(\"Bio assignmenet\")\n",
    "\n",
    "##Removing the completed task\n",
    "to_do_list.remove(\"DBMS project\")\n",
    "\n",
    "##checking if a task is in the to_do_list\n",
    "\n",
    "if \"ML report\" in to_do_list:\n",
    "    print(\"Don't forget to complete that ML report\")\n",
    "\n",
    "print(\"To do list remaining\")\n",
    "for task in to_do_list:\n",
    "    print(f\"-{task}\")\n"
   ]
  },
  {
   "cell_type": "markdown",
   "metadata": {},
   "source": [
    "Example 2:Organizing Student Grades\n",
    "\n",
    ".Create a list to store and calculate average grades of students"
   ]
  },
  {
   "cell_type": "code",
   "execution_count": 3,
   "metadata": {},
   "outputs": [
    {
     "name": "stdout",
     "output_type": "stream",
     "text": [
      "Average Grade: 88.00\n",
      "Highest grade:95\n",
      "Lowest Grade:78\n"
     ]
    }
   ],
   "source": [
    "##List for creating a grades\n",
    "grades=[85,92,78,90,88]\n",
    "\n",
    "#adding a new grade\n",
    "grades.append(95)\n",
    "\n",
    "#calculating the average grade\n",
    "average_grade=sum(grades)/len(grades)\n",
    "print(f\"Average Grade: {average_grade:.2f}\")\n",
    "\n",
    "##Finding the highest and Lowest grades\n",
    "highest_grade= max(grades)\n",
    "lowest_grade= min(grades)\n",
    "print(f\"Highest grade:{highest_grade}\")\n",
    "print(f\"Lowest Grade:{lowest_grade}\")\n"
   ]
  },
  {
   "cell_type": "markdown",
   "metadata": {},
   "source": [
    "Example3: Managing An Inventory\n",
    "\n",
    ". Use a list to manage inventory items in a store"
   ]
  },
  {
   "cell_type": "code",
   "execution_count": 7,
   "metadata": {},
   "outputs": [
    {
     "name": "stdout",
     "output_type": "stream",
     "text": [
      "cherry are out of stock.\n",
      "Inventory List\n",
      "-apples\n",
      "-bananas\n",
      "-grapes\n",
      "-oranges\n"
     ]
    }
   ],
   "source": [
    "##Manging an inventory\n",
    "\n",
    "inventory=[\"apples\",\"bananas\",\"grapes\",\"cherry\"]\n",
    "\n",
    "#Adding a new item\n",
    "inventory.append(\"oranges\")\n",
    "\n",
    "#Rempving an item from inventory that is out of stock\n",
    "inventory.remove(\"cherry\")\n",
    "\n",
    "##item=\"oranges\"\n",
    "item=\"cherry\"\n",
    "if item in inventory:\n",
    "    print(f\"{item} are in stock.\")\n",
    "else:\n",
    "    print(f\"{item} are out of stock.\")\n",
    "\n",
    "#Printing the inventory list\n",
    "print(\"Inventory List\")\n",
    "for item in inventory:\n",
    "    print(f\"-{item}\")"
   ]
  },
  {
   "cell_type": "markdown",
   "metadata": {},
   "source": [
    "Example 4:Collecting User Feedback\n",
    "\n",
    ".Use a list to collect and anlyze user feedback"
   ]
  },
  {
   "cell_type": "code",
   "execution_count": 11,
   "metadata": {},
   "outputs": [
    {
     "name": "stdout",
     "output_type": "stream",
     "text": [
      "Positive Feedback Count: 2\n",
      "User Feedback\n",
      "-Great Service\n",
      "-Very Satisfied\n",
      "-Could be better\n",
      "-Excellent Experience\n",
      "-Not happy with the service\n"
     ]
    }
   ],
   "source": [
    "#collecting a user feedback\n",
    "feedback =[\"Great Service\",\"Very Satisfied\",\"Could be better\",\"Excellent Experience\"]\n",
    "#Adding a new feedback\n",
    "feedback.append(\"Not happy with the service\")\n",
    "\n",
    "#Counting specific feedback\n",
    "positive_feedback_count=sum(1 for comment in feedback if \"great\" in comment.lower() or \"excellent\" in comment.lower())\n",
    "print(f\"Positive Feedback Count: {positive_feedback_count}\")\n",
    "\n",
    "#Printing all feedback\n",
    "print(\"User Feedback\")\n",
    "for comment in feedback:\n",
    "    print(f\"-{comment}\")"
   ]
  },
  {
   "cell_type": "code",
   "execution_count": 12,
   "metadata": {},
   "outputs": [
    {
     "name": "stdout",
     "output_type": "stream",
     "text": [
      "Positive Feedback Count: 2\n",
      "User Feedback\n",
      "-Great Service\n",
      "-Very Satisfied\n",
      "-Could be better\n",
      "-Excellent Experience\n",
      "-Not happy with the service\n"
     ]
    }
   ],
   "source": [
    "#collecting a user feedback\n",
    "feedback =[\"Great Service\",\"Very Satisfied\",\"Could be better\",\"Excellent Experience\"]\n",
    "#Adding a new feedback\n",
    "feedback.append(\"Not happy with the service\")\n",
    "\n",
    "#Counting specific feedback\n",
    "positive_feedback_count=sum(1 for comment in feedback if \"great\" in comment.lower() or \"excellent\" in comment.lower())\n",
    "print(f\"Positive Feedback Count: {positive_feedback_count}\")\n",
    "\n",
    "#Printing all feedback\n",
    "print(\"User Feedback\")\n",
    "for comment in feedback:\n",
    "    print(f\"-{comment}\")"
   ]
  }
 ],
 "metadata": {
  "kernelspec": {
   "display_name": "venv",
   "language": "python",
   "name": "python3"
  },
  "language_info": {
   "codemirror_mode": {
    "name": "ipython",
    "version": 3
   },
   "file_extension": ".py",
   "mimetype": "text/x-python",
   "name": "python",
   "nbconvert_exporter": "python",
   "pygments_lexer": "ipython3",
   "version": "3.12.7"
  }
 },
 "nbformat": 4,
 "nbformat_minor": 2
}
